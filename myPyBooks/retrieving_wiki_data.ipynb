{
 "cells": [
  {
   "cell_type": "markdown",
   "id": "a7b6bb14-81c9-4584-8730-a108d562e4f3",
   "metadata": {},
   "source": [
    "---"
   ]
  },
  {
   "cell_type": "markdown",
   "id": "73405981-337e-4cf7-8263-79b8e25544cb",
   "metadata": {},
   "source": [
    "---"
   ]
  },
  {
   "cell_type": "code",
   "execution_count": 3,
   "id": "da0e9852-33fc-449b-b3bc-89b18c951768",
   "metadata": {},
   "outputs": [],
   "source": [
    "import wikipedia as wiki\n",
    "import IPython\n",
    "import warnings as w"
   ]
  },
  {
   "cell_type": "code",
   "execution_count": 6,
   "id": "433bfde9-d204-4bf5-9577-04a354bfceaa",
   "metadata": {},
   "outputs": [],
   "source": [
    "def get_data(text):\n",
    "    \n",
    "    w.filterwarnings(\"ignore\")\n",
    "    \n",
    "    try:\n",
    "        obj = wiki.page(text)\n",
    "\n",
    "        print(\"\\nTITLE : \", obj.title,\"\\n\")\n",
    "        print(\"SUMMARY : \", obj.summary)\n",
    "        print(\"URL : \", obj.url, \"\\n\")\n",
    "\n",
    "        print(\"IMAGES :\\n\")\n",
    "        images = obj.images \n",
    "        if len(images) > 0:\n",
    "            for img in images:\n",
    "                print(img)\n",
    "        else:\n",
    "            print(\"There are no images for search page\")\n",
    "\n",
    "    except Exception as e:\n",
    "        print(\"MESSAGE: Your search is equivocal, make sure for an proper search... \")"
   ]
  },
  {
   "cell_type": "code",
   "execution_count": 7,
   "id": "af310707-cea2-4877-9d4b-2642792226ba",
   "metadata": {},
   "outputs": [
    {
     "name": "stdout",
     "output_type": "stream",
     "text": [
      "\n",
      "TITLE :  Ramdev \n",
      "\n",
      "SUMMARY :  Ramdev (born Ram Kisan Yadav between 1965 and 1975) is an Indian yoga guru, businessman and brand ambassador for Patanjali Ayurved. He is primarily known for being a proponent of yoga and ayurveda in India. Ramdev has been organizing and conducting large yoga camps since 2002 and broadcasting his yoga classes on various TV channels. He co-founded Patanjali Ayurved and Patanjali Yogpeeth with his colleague Balkrishna in 2006. Ramdev has received criticism over his comments related to modern medicine, yoga, and ayurveda.Ramdev is aligned with the Bharatiya Janata Party (BJP) on a number of issues . In 2011–2012, he led protests against corruption in India and advocated for the repatriation of black money held in foreign banks.In April 2022, The Indian Express listed Ramdev as the 78th most powerful Indian.\n",
      "\n",
      "\n",
      "URL :  https://en.wikipedia.org/wiki/Ramdev \n",
      "\n",
      "IMAGES :\n",
      "\n",
      "https://upload.wikimedia.org/wikipedia/commons/1/1c/Narendra_Modi_attending_the_Yog_Mahotsav_at_Ramlila_Maidan_in_New_Delhi.jpg\n",
      "https://upload.wikimedia.org/wikipedia/commons/0/09/Patanjali_center.jpg\n",
      "https://upload.wikimedia.org/wikipedia/commons/f/f2/Swami_Ramdev_giving_verbal_instructions_to_the_students_at_the_Yoga_and_Pranayam_Shivir_organised_by_the_All_India_Vaishya_Federation_and_inaugurated_by_the_Vice_President_Shri_Bhairon_Singh_Shekhawat%2C_in_New_Delhi_on_October_07.jpg\n",
      "https://upload.wikimedia.org/wikipedia/commons/f/fb/Swami_Ramdev_in_2016.jpg\n",
      "https://upload.wikimedia.org/wikipedia/commons/f/fe/Unbalanced_scales.svg\n",
      "https://upload.wikimedia.org/wikipedia/en/4/4a/Commons-logo.svg\n",
      "https://upload.wikimedia.org/wikipedia/en/8/8a/OOjs_UI_icon_edit-ltr-progressive.svg\n",
      "https://upload.wikimedia.org/wikipedia/en/9/96/Symbol_category_class.svg\n"
     ]
    }
   ],
   "source": [
    "get_data(\"ramdev baba\")"
   ]
  },
  {
   "cell_type": "markdown",
   "id": "ec1a2f26-0172-4642-af33-443248e6af7a",
   "metadata": {},
   "source": [
    "---"
   ]
  },
  {
   "cell_type": "markdown",
   "id": "5490eddd-60f0-4693-a233-39ec50a252fa",
   "metadata": {},
   "source": [
    "---"
   ]
  }
 ],
 "metadata": {
  "kernelspec": {
   "display_name": "Python [conda env:tf_use]",
   "language": "python",
   "name": "conda-env-tf_use-py"
  },
  "language_info": {
   "codemirror_mode": {
    "name": "ipython",
    "version": 3
   },
   "file_extension": ".py",
   "mimetype": "text/x-python",
   "name": "python",
   "nbconvert_exporter": "python",
   "pygments_lexer": "ipython3",
   "version": "3.8.0"
  }
 },
 "nbformat": 4,
 "nbformat_minor": 5
}
